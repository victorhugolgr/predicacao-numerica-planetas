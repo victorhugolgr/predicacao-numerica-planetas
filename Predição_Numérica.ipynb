{
  "cells": [
    {
      "cell_type": "markdown",
      "metadata": {
        "id": "view-in-github",
        "colab_type": "text"
      },
      "source": [
        "<a href=\"https://colab.research.google.com/github/victorhugolgr/predicacao-numerica-planetas/blob/main/Predi%C3%A7%C3%A3o_Num%C3%A9rica.ipynb\" target=\"_parent\"><img src=\"https://colab.research.google.com/assets/colab-badge.svg\" alt=\"Open In Colab\"/></a>"
      ]
    },
    {
      "cell_type": "code",
      "execution_count": 16,
      "metadata": {
        "id": "yXcjkgizJc5u"
      },
      "outputs": [],
      "source": [
        "import numpy as np\n",
        "import pandas as pd\n",
        "from sklearn.preprocessing import StandardScaler\n",
        "from keras.models import Sequential\n",
        "from keras.layers import LSTM, Dense, Bidirectional, Dropout\n",
        "from tensorflow import keras\n",
        "from tensorflow.keras.optimizers import Adam"
      ]
    },
    {
      "cell_type": "code",
      "execution_count": 17,
      "metadata": {
        "id": "VDYvkRCXJy5R"
      },
      "outputs": [],
      "source": [
        "dados = pd.read_excel('/content/drive/MyDrive/predicao-numerica/massa/002/base_planeta_train.xlsx')"
      ]
    },
    {
      "cell_type": "code",
      "execution_count": 18,
      "metadata": {
        "colab": {
          "base_uri": "https://localhost:8080/",
          "height": 424
        },
        "id": "8WbcOK25K37N",
        "outputId": "f9fe3ce0-0741-4261-ed0a-49d651a8b7b0"
      },
      "outputs": [
        {
          "output_type": "execute_result",
          "data": {
            "text/plain": [
              "      planeta\n",
              "0           5\n",
              "1           7\n",
              "2           7\n",
              "3           6\n",
              "4           7\n",
              "...       ...\n",
              "2582        6\n",
              "2583        1\n",
              "2584        2\n",
              "2585        6\n",
              "2586        3\n",
              "\n",
              "[2587 rows x 1 columns]"
            ],
            "text/html": [
              "\n",
              "  <div id=\"df-8be3a0a9-8ac0-4647-8983-fedc7b9c9951\">\n",
              "    <div class=\"colab-df-container\">\n",
              "      <div>\n",
              "<style scoped>\n",
              "    .dataframe tbody tr th:only-of-type {\n",
              "        vertical-align: middle;\n",
              "    }\n",
              "\n",
              "    .dataframe tbody tr th {\n",
              "        vertical-align: top;\n",
              "    }\n",
              "\n",
              "    .dataframe thead th {\n",
              "        text-align: right;\n",
              "    }\n",
              "</style>\n",
              "<table border=\"1\" class=\"dataframe\">\n",
              "  <thead>\n",
              "    <tr style=\"text-align: right;\">\n",
              "      <th></th>\n",
              "      <th>planeta</th>\n",
              "    </tr>\n",
              "  </thead>\n",
              "  <tbody>\n",
              "    <tr>\n",
              "      <th>0</th>\n",
              "      <td>5</td>\n",
              "    </tr>\n",
              "    <tr>\n",
              "      <th>1</th>\n",
              "      <td>7</td>\n",
              "    </tr>\n",
              "    <tr>\n",
              "      <th>2</th>\n",
              "      <td>7</td>\n",
              "    </tr>\n",
              "    <tr>\n",
              "      <th>3</th>\n",
              "      <td>6</td>\n",
              "    </tr>\n",
              "    <tr>\n",
              "      <th>4</th>\n",
              "      <td>7</td>\n",
              "    </tr>\n",
              "    <tr>\n",
              "      <th>...</th>\n",
              "      <td>...</td>\n",
              "    </tr>\n",
              "    <tr>\n",
              "      <th>2582</th>\n",
              "      <td>6</td>\n",
              "    </tr>\n",
              "    <tr>\n",
              "      <th>2583</th>\n",
              "      <td>1</td>\n",
              "    </tr>\n",
              "    <tr>\n",
              "      <th>2584</th>\n",
              "      <td>2</td>\n",
              "    </tr>\n",
              "    <tr>\n",
              "      <th>2585</th>\n",
              "      <td>6</td>\n",
              "    </tr>\n",
              "    <tr>\n",
              "      <th>2586</th>\n",
              "      <td>3</td>\n",
              "    </tr>\n",
              "  </tbody>\n",
              "</table>\n",
              "<p>2587 rows × 1 columns</p>\n",
              "</div>\n",
              "      <button class=\"colab-df-convert\" onclick=\"convertToInteractive('df-8be3a0a9-8ac0-4647-8983-fedc7b9c9951')\"\n",
              "              title=\"Convert this dataframe to an interactive table.\"\n",
              "              style=\"display:none;\">\n",
              "        \n",
              "  <svg xmlns=\"http://www.w3.org/2000/svg\" height=\"24px\"viewBox=\"0 0 24 24\"\n",
              "       width=\"24px\">\n",
              "    <path d=\"M0 0h24v24H0V0z\" fill=\"none\"/>\n",
              "    <path d=\"M18.56 5.44l.94 2.06.94-2.06 2.06-.94-2.06-.94-.94-2.06-.94 2.06-2.06.94zm-11 1L8.5 8.5l.94-2.06 2.06-.94-2.06-.94L8.5 2.5l-.94 2.06-2.06.94zm10 10l.94 2.06.94-2.06 2.06-.94-2.06-.94-.94-2.06-.94 2.06-2.06.94z\"/><path d=\"M17.41 7.96l-1.37-1.37c-.4-.4-.92-.59-1.43-.59-.52 0-1.04.2-1.43.59L10.3 9.45l-7.72 7.72c-.78.78-.78 2.05 0 2.83L4 21.41c.39.39.9.59 1.41.59.51 0 1.02-.2 1.41-.59l7.78-7.78 2.81-2.81c.8-.78.8-2.07 0-2.86zM5.41 20L4 18.59l7.72-7.72 1.47 1.35L5.41 20z\"/>\n",
              "  </svg>\n",
              "      </button>\n",
              "      \n",
              "  <style>\n",
              "    .colab-df-container {\n",
              "      display:flex;\n",
              "      flex-wrap:wrap;\n",
              "      gap: 12px;\n",
              "    }\n",
              "\n",
              "    .colab-df-convert {\n",
              "      background-color: #E8F0FE;\n",
              "      border: none;\n",
              "      border-radius: 50%;\n",
              "      cursor: pointer;\n",
              "      display: none;\n",
              "      fill: #1967D2;\n",
              "      height: 32px;\n",
              "      padding: 0 0 0 0;\n",
              "      width: 32px;\n",
              "    }\n",
              "\n",
              "    .colab-df-convert:hover {\n",
              "      background-color: #E2EBFA;\n",
              "      box-shadow: 0px 1px 2px rgba(60, 64, 67, 0.3), 0px 1px 3px 1px rgba(60, 64, 67, 0.15);\n",
              "      fill: #174EA6;\n",
              "    }\n",
              "\n",
              "    [theme=dark] .colab-df-convert {\n",
              "      background-color: #3B4455;\n",
              "      fill: #D2E3FC;\n",
              "    }\n",
              "\n",
              "    [theme=dark] .colab-df-convert:hover {\n",
              "      background-color: #434B5C;\n",
              "      box-shadow: 0px 1px 3px 1px rgba(0, 0, 0, 0.15);\n",
              "      filter: drop-shadow(0px 1px 2px rgba(0, 0, 0, 0.3));\n",
              "      fill: #FFFFFF;\n",
              "    }\n",
              "  </style>\n",
              "\n",
              "      <script>\n",
              "        const buttonEl =\n",
              "          document.querySelector('#df-8be3a0a9-8ac0-4647-8983-fedc7b9c9951 button.colab-df-convert');\n",
              "        buttonEl.style.display =\n",
              "          google.colab.kernel.accessAllowed ? 'block' : 'none';\n",
              "\n",
              "        async function convertToInteractive(key) {\n",
              "          const element = document.querySelector('#df-8be3a0a9-8ac0-4647-8983-fedc7b9c9951');\n",
              "          const dataTable =\n",
              "            await google.colab.kernel.invokeFunction('convertToInteractive',\n",
              "                                                     [key], {});\n",
              "          if (!dataTable) return;\n",
              "\n",
              "          const docLinkHtml = 'Like what you see? Visit the ' +\n",
              "            '<a target=\"_blank\" href=https://colab.research.google.com/notebooks/data_table.ipynb>data table notebook</a>'\n",
              "            + ' to learn more about interactive tables.';\n",
              "          element.innerHTML = '';\n",
              "          dataTable['output_type'] = 'display_data';\n",
              "          await google.colab.output.renderOutput(dataTable, element);\n",
              "          const docLink = document.createElement('div');\n",
              "          docLink.innerHTML = docLinkHtml;\n",
              "          element.appendChild(docLink);\n",
              "        }\n",
              "      </script>\n",
              "    </div>\n",
              "  </div>\n",
              "  "
            ]
          },
          "metadata": {},
          "execution_count": 18
        }
      ],
      "source": [
        "dados"
      ]
    },
    {
      "cell_type": "code",
      "source": [
        "scaler = StandardScaler().fit(dados.values)\n",
        "transformed_dataset = scaler.transform(dados.values)\n",
        "transformed_df = pd.DataFrame(data=transformed_dataset, index=dados.index)"
      ],
      "metadata": {
        "id": "iLgWSXmDmAP5"
      },
      "execution_count": 19,
      "outputs": []
    },
    {
      "cell_type": "code",
      "execution_count": 20,
      "metadata": {
        "colab": {
          "base_uri": "https://localhost:8080/"
        },
        "id": "07bZ1w_KK46d",
        "outputId": "74c40e73-5223-4705-86e4-5c3eec4af4ef"
      },
      "outputs": [
        {
          "output_type": "execute_result",
          "data": {
            "text/plain": [
              "2587"
            ]
          },
          "metadata": {},
          "execution_count": 20
        }
      ],
      "source": [
        "number_of_rows = dados.values.shape[0]\n",
        "number_of_rows"
      ]
    },
    {
      "cell_type": "code",
      "execution_count": 21,
      "metadata": {
        "colab": {
          "base_uri": "https://localhost:8080/"
        },
        "id": "kfL5wt7dQ7i_",
        "outputId": "415b7bc9-1df7-40c6-df46-49b13fe2a951"
      },
      "outputs": [
        {
          "output_type": "execute_result",
          "data": {
            "text/plain": [
              "200"
            ]
          },
          "metadata": {},
          "execution_count": 21
        }
      ],
      "source": [
        "window_length = 200\n",
        "window_length"
      ]
    },
    {
      "cell_type": "code",
      "execution_count": 22,
      "metadata": {
        "colab": {
          "base_uri": "https://localhost:8080/"
        },
        "id": "qL9J9He4RDW4",
        "outputId": "6beee5d3-1302-4f5d-d50e-cdb96984a08d"
      },
      "outputs": [
        {
          "output_type": "execute_result",
          "data": {
            "text/plain": [
              "1"
            ]
          },
          "metadata": {},
          "execution_count": 22
        }
      ],
      "source": [
        "number_of_features = dados.values.shape[1]\n",
        "number_of_features"
      ]
    },
    {
      "cell_type": "code",
      "execution_count": 23,
      "metadata": {
        "id": "ghBrPVRIRK-B"
      },
      "outputs": [],
      "source": [
        "X = np.empty([ number_of_rows - window_length, window_length, number_of_features], dtype=float)\n",
        "y = np.empty([ number_of_rows - window_length, number_of_features], dtype=float)\n",
        "for i in range(0, number_of_rows-window_length):\n",
        "    X[i] = transformed_df.iloc[i : i+window_length, 0 : number_of_features]\n",
        "    y[i] = transformed_df.iloc[i+window_length : i+window_length+1, 0 : number_of_features]\n"
      ]
    },
    {
      "cell_type": "code",
      "execution_count": 24,
      "metadata": {
        "colab": {
          "base_uri": "https://localhost:8080/"
        },
        "id": "a6N9atgSUY5H",
        "outputId": "21eaf4b2-c350-4c55-bbdb-125c479478bc"
      },
      "outputs": [
        {
          "output_type": "execute_result",
          "data": {
            "text/plain": [
              "(2387, 200, 1)"
            ]
          },
          "metadata": {},
          "execution_count": 24
        }
      ],
      "source": [
        "X.shape"
      ]
    },
    {
      "cell_type": "code",
      "execution_count": 25,
      "metadata": {
        "colab": {
          "base_uri": "https://localhost:8080/"
        },
        "id": "glT953gKUbnm",
        "outputId": "49fa308a-0f56-4480-d9e8-f3641c15d09e"
      },
      "outputs": [
        {
          "output_type": "execute_result",
          "data": {
            "text/plain": [
              "(2387, 1)"
            ]
          },
          "metadata": {},
          "execution_count": 25
        }
      ],
      "source": [
        "y.shape"
      ]
    },
    {
      "cell_type": "code",
      "execution_count": 26,
      "metadata": {
        "colab": {
          "base_uri": "https://localhost:8080/"
        },
        "id": "_JADfQoZUcuW",
        "outputId": "14949212-222a-4106-9eb8-8845f39a42b7"
      },
      "outputs": [
        {
          "output_type": "execute_result",
          "data": {
            "text/plain": [
              "array([[-0.11194228],\n",
              "       [ 0.82072982],\n",
              "       [ 0.82072982],\n",
              "       [ 0.35439377],\n",
              "       [ 0.82072982],\n",
              "       [-0.57827834],\n",
              "       [ 0.35439377],\n",
              "       [ 1.28706587],\n",
              "       [-1.04461439],\n",
              "       [-1.04461439],\n",
              "       [-1.04461439],\n",
              "       [ 0.82072982],\n",
              "       [-1.04461439],\n",
              "       [ 1.28706587],\n",
              "       [ 0.35439377],\n",
              "       [-1.9772865 ],\n",
              "       [ 1.28706587],\n",
              "       [-1.51095044],\n",
              "       [-1.9772865 ],\n",
              "       [-0.11194228],\n",
              "       [ 0.35439377],\n",
              "       [ 0.82072982],\n",
              "       [ 0.35439377],\n",
              "       [-0.57827834],\n",
              "       [ 0.82072982],\n",
              "       [-1.04461439],\n",
              "       [-1.51095044],\n",
              "       [ 1.28706587],\n",
              "       [ 0.82072982],\n",
              "       [-0.57827834],\n",
              "       [ 0.82072982],\n",
              "       [ 0.82072982],\n",
              "       [-0.57827834],\n",
              "       [ 1.28706587],\n",
              "       [-0.57827834],\n",
              "       [-0.57827834],\n",
              "       [ 0.82072982],\n",
              "       [ 0.82072982],\n",
              "       [-0.11194228],\n",
              "       [-0.57827834],\n",
              "       [-0.11194228],\n",
              "       [-0.57827834],\n",
              "       [ 1.28706587],\n",
              "       [-1.51095044],\n",
              "       [ 1.28706587],\n",
              "       [ 0.35439377],\n",
              "       [ 0.35439377],\n",
              "       [-1.51095044],\n",
              "       [-1.9772865 ],\n",
              "       [ 0.82072982],\n",
              "       [-0.57827834],\n",
              "       [ 0.82072982],\n",
              "       [ 1.28706587],\n",
              "       [-0.11194228],\n",
              "       [-0.11194228],\n",
              "       [ 0.82072982],\n",
              "       [-0.57827834],\n",
              "       [-1.51095044],\n",
              "       [-0.57827834],\n",
              "       [ 0.35439377],\n",
              "       [ 0.82072982],\n",
              "       [ 1.28706587],\n",
              "       [-1.04461439],\n",
              "       [ 1.28706587],\n",
              "       [ 0.35439377],\n",
              "       [-0.57827834],\n",
              "       [-1.04461439],\n",
              "       [ 0.82072982],\n",
              "       [ 1.28706587],\n",
              "       [ 0.82072982],\n",
              "       [ 1.28706587],\n",
              "       [ 0.35439377],\n",
              "       [ 0.35439377],\n",
              "       [ 0.35439377],\n",
              "       [-0.57827834],\n",
              "       [ 0.82072982],\n",
              "       [-0.11194228],\n",
              "       [ 0.35439377],\n",
              "       [ 1.28706587],\n",
              "       [ 1.28706587],\n",
              "       [-0.57827834],\n",
              "       [ 1.28706587],\n",
              "       [-0.57827834],\n",
              "       [-0.57827834],\n",
              "       [ 1.28706587],\n",
              "       [-0.11194228],\n",
              "       [ 1.28706587],\n",
              "       [ 1.28706587],\n",
              "       [-0.57827834],\n",
              "       [-0.57827834],\n",
              "       [ 0.82072982],\n",
              "       [ 0.35439377],\n",
              "       [-0.11194228],\n",
              "       [-0.11194228],\n",
              "       [ 0.35439377],\n",
              "       [-0.11194228],\n",
              "       [-1.9772865 ],\n",
              "       [ 0.35439377],\n",
              "       [-0.57827834],\n",
              "       [ 0.82072982],\n",
              "       [ 0.82072982],\n",
              "       [ 1.28706587],\n",
              "       [ 0.35439377],\n",
              "       [-1.51095044],\n",
              "       [-1.04461439],\n",
              "       [-0.57827834],\n",
              "       [ 1.28706587],\n",
              "       [ 1.28706587],\n",
              "       [ 1.28706587],\n",
              "       [-0.57827834],\n",
              "       [ 0.35439377],\n",
              "       [ 0.35439377],\n",
              "       [-0.57827834],\n",
              "       [ 0.82072982],\n",
              "       [ 1.28706587],\n",
              "       [ 1.28706587],\n",
              "       [-0.11194228],\n",
              "       [-1.51095044],\n",
              "       [ 1.28706587],\n",
              "       [ 0.35439377],\n",
              "       [ 1.28706587],\n",
              "       [ 1.28706587],\n",
              "       [-1.51095044],\n",
              "       [-0.11194228],\n",
              "       [-1.04461439],\n",
              "       [ 0.35439377],\n",
              "       [ 0.35439377],\n",
              "       [-1.9772865 ],\n",
              "       [-0.11194228],\n",
              "       [-1.04461439],\n",
              "       [-1.9772865 ],\n",
              "       [ 0.82072982],\n",
              "       [ 1.28706587],\n",
              "       [-0.57827834],\n",
              "       [ 0.35439377],\n",
              "       [ 0.82072982],\n",
              "       [-0.11194228],\n",
              "       [-1.9772865 ],\n",
              "       [ 1.28706587],\n",
              "       [ 1.28706587],\n",
              "       [ 1.28706587],\n",
              "       [ 1.28706587],\n",
              "       [ 0.82072982],\n",
              "       [ 0.82072982],\n",
              "       [ 1.28706587],\n",
              "       [-0.57827834],\n",
              "       [-0.57827834],\n",
              "       [ 0.82072982],\n",
              "       [-0.11194228],\n",
              "       [ 0.82072982],\n",
              "       [-0.11194228],\n",
              "       [-1.9772865 ],\n",
              "       [ 0.35439377],\n",
              "       [ 1.28706587],\n",
              "       [-1.51095044],\n",
              "       [ 0.82072982],\n",
              "       [ 1.28706587],\n",
              "       [-0.11194228],\n",
              "       [-0.57827834],\n",
              "       [ 0.82072982],\n",
              "       [ 0.35439377],\n",
              "       [ 0.35439377],\n",
              "       [ 0.82072982],\n",
              "       [ 0.35439377],\n",
              "       [ 1.28706587],\n",
              "       [-0.11194228],\n",
              "       [ 1.28706587],\n",
              "       [-0.57827834],\n",
              "       [ 0.82072982],\n",
              "       [ 0.35439377],\n",
              "       [-0.57827834],\n",
              "       [ 1.28706587],\n",
              "       [-1.9772865 ],\n",
              "       [ 0.82072982],\n",
              "       [-1.51095044],\n",
              "       [-1.51095044],\n",
              "       [-1.9772865 ],\n",
              "       [-1.04461439],\n",
              "       [-1.04461439],\n",
              "       [-0.57827834],\n",
              "       [-0.57827834],\n",
              "       [-1.04461439],\n",
              "       [-1.9772865 ],\n",
              "       [ 1.28706587],\n",
              "       [ 0.82072982],\n",
              "       [-1.51095044],\n",
              "       [ 0.35439377],\n",
              "       [-1.9772865 ],\n",
              "       [ 1.28706587],\n",
              "       [ 0.35439377],\n",
              "       [-0.11194228],\n",
              "       [-0.57827834],\n",
              "       [ 0.82072982],\n",
              "       [-0.11194228],\n",
              "       [-0.11194228],\n",
              "       [-1.9772865 ],\n",
              "       [-0.11194228],\n",
              "       [ 0.35439377],\n",
              "       [ 0.82072982],\n",
              "       [ 0.82072982]])"
            ]
          },
          "metadata": {},
          "execution_count": 26
        }
      ],
      "source": [
        "X[0]"
      ]
    },
    {
      "cell_type": "code",
      "execution_count": 27,
      "metadata": {
        "colab": {
          "base_uri": "https://localhost:8080/"
        },
        "id": "UGc5AsmPUgYm",
        "outputId": "57e76c74-bc15-43f6-b1fd-ae21fb952125"
      },
      "outputs": [
        {
          "output_type": "execute_result",
          "data": {
            "text/plain": [
              "array([0.82072982])"
            ]
          },
          "metadata": {},
          "execution_count": 27
        }
      ],
      "source": [
        "y[0]"
      ]
    },
    {
      "cell_type": "code",
      "execution_count": 28,
      "metadata": {
        "id": "J0oXnuDgU2zO"
      },
      "outputs": [],
      "source": [
        "model = Sequential()\n",
        "model.add(Bidirectional(LSTM(240, input_shape = (window_length, number_of_features), return_sequences = True)))\n",
        "model.add(Dropout(0.3))\n",
        "model.add(Bidirectional(LSTM(240, input_shape = (window_length, number_of_features), return_sequences = True)))\n",
        "model.add(Dropout(0.3))\n",
        "model.add(Bidirectional(LSTM(240, input_shape = (window_length, number_of_features), return_sequences = True)))\n",
        "model.add(Bidirectional(LSTM(240, input_shape = (window_length, number_of_features), return_sequences = False)))\n",
        "model.add(Dense(59))\n",
        "model.add(Dense(number_of_features))\n",
        "\n",
        "# model = Sequential()\n",
        "# model.add(Bidirectional(LSTM(240, input_shape = (window_length, number_of_features), return_sequences = True)))\n",
        "# model.add(Dropout(0.2))\n",
        "# model.add(Bidirectional(LSTM(240, input_shape = (window_length, number_of_features), return_sequences = True)))\n",
        "# model.add(Dropout(0.2))\n",
        "# model.add(Bidirectional(LSTM(240, input_shape = (window_length, number_of_features), return_sequences = True)))\n",
        "# model.add(Bidirectional(LSTM(240, input_shape = (window_length, number_of_features), return_sequences = False)))\n",
        "# model.add(Dense(59))\n",
        "# model.add(Dense(number_of_features))"
      ]
    },
    {
      "cell_type": "code",
      "execution_count": 29,
      "metadata": {
        "id": "1GTRhb1CVKWG"
      },
      "outputs": [],
      "source": [
        "model.compile(optimizer=Adam(learning_rate=0.0001), loss ='mse', metrics=['accuracy'])"
      ]
    },
    {
      "cell_type": "code",
      "execution_count": null,
      "metadata": {
        "colab": {
          "base_uri": "https://localhost:8080/"
        },
        "id": "fM9woDxfVi4u",
        "outputId": "f0de72ef-712e-487f-b7e8-6ef33c69aaab"
      },
      "outputs": [
        {
          "output_type": "stream",
          "name": "stdout",
          "text": [
            "Epoch 1/200\n",
            "12/12 - 272s - loss: 1.0007 - accuracy: 0.0000e+00 - 272s/epoch - 23s/step\n",
            "Epoch 2/200\n",
            "12/12 - 257s - loss: 0.9988 - accuracy: 0.0000e+00 - 257s/epoch - 21s/step\n",
            "Epoch 3/200\n",
            "12/12 - 258s - loss: 0.9998 - accuracy: 0.0000e+00 - 258s/epoch - 22s/step\n",
            "Epoch 4/200\n",
            "12/12 - 256s - loss: 0.9992 - accuracy: 0.0000e+00 - 256s/epoch - 21s/step\n",
            "Epoch 5/200\n",
            "12/12 - 256s - loss: 0.9998 - accuracy: 0.0000e+00 - 256s/epoch - 21s/step\n",
            "Epoch 6/200\n",
            "12/12 - 256s - loss: 0.9983 - accuracy: 0.0000e+00 - 256s/epoch - 21s/step\n",
            "Epoch 7/200\n",
            "12/12 - 256s - loss: 0.9983 - accuracy: 0.0000e+00 - 256s/epoch - 21s/step\n",
            "Epoch 8/200\n",
            "12/12 - 256s - loss: 0.9982 - accuracy: 0.0000e+00 - 256s/epoch - 21s/step\n",
            "Epoch 9/200\n",
            "12/12 - 256s - loss: 0.9977 - accuracy: 0.0000e+00 - 256s/epoch - 21s/step\n",
            "Epoch 10/200\n",
            "12/12 - 256s - loss: 0.9983 - accuracy: 0.0000e+00 - 256s/epoch - 21s/step\n",
            "Epoch 11/200\n",
            "12/12 - 257s - loss: 0.9979 - accuracy: 0.0000e+00 - 257s/epoch - 21s/step\n",
            "Epoch 12/200\n",
            "12/12 - 256s - loss: 0.9984 - accuracy: 0.0000e+00 - 256s/epoch - 21s/step\n",
            "Epoch 13/200\n",
            "12/12 - 256s - loss: 0.9978 - accuracy: 0.0000e+00 - 256s/epoch - 21s/step\n",
            "Epoch 14/200\n",
            "12/12 - 256s - loss: 0.9969 - accuracy: 0.0000e+00 - 256s/epoch - 21s/step\n",
            "Epoch 15/200\n"
          ]
        }
      ],
      "source": [
        "model.fit(x=X, y=y, batch_size=200, epochs=200, verbose=2)"
      ]
    },
    {
      "cell_type": "code",
      "execution_count": null,
      "metadata": {
        "id": "pwQaVoIrVvo-"
      },
      "outputs": [],
      "source": [
        "to_predict = dados.tail(window_length + 1)\n",
        "to_predict"
      ]
    },
    {
      "cell_type": "code",
      "source": [
        "to_predict.drop([to_predict.index[-1]],axis=0, inplace=True)\n",
        "to_predict"
      ],
      "metadata": {
        "id": "fw9gvqOLRleV"
      },
      "execution_count": null,
      "outputs": []
    },
    {
      "cell_type": "code",
      "source": [
        "prediction = dados.tail(1)\n",
        "prediction"
      ],
      "metadata": {
        "id": "B0BFe_MGRooR"
      },
      "execution_count": null,
      "outputs": []
    },
    {
      "cell_type": "code",
      "source": [
        "to_predict = np.array(to_predict)\n",
        "to_predict"
      ],
      "metadata": {
        "id": "Noh93qe2Rq3a"
      },
      "execution_count": null,
      "outputs": []
    },
    {
      "cell_type": "code",
      "source": [
        "scaler = StandardScaler().fit(dados.values)\n",
        "scaled_to_predict = scaler.transform(to_predict)\n",
        "scaled_to_predict"
      ],
      "metadata": {
        "id": "PiK3HSIbRtVv"
      },
      "execution_count": null,
      "outputs": []
    },
    {
      "cell_type": "code",
      "source": [
        "y_pred = model.predict(np.array([scaled_to_predict]))\n",
        "print(\"The predicted numbers in the last lottery game are:\", scaler.inverse_transform(y_pred).astype(int)[0])"
      ],
      "metadata": {
        "id": "n3B5hQZ0Rzi1"
      },
      "execution_count": null,
      "outputs": []
    },
    {
      "cell_type": "code",
      "source": [
        "prediction = np.array(prediction)\n",
        "print(\"The actual numbers in the last lottery game were:\", prediction[0])"
      ],
      "metadata": {
        "id": "KDAjPYR1R2UV"
      },
      "execution_count": null,
      "outputs": []
    },
    {
      "cell_type": "code",
      "source": [
        "teste = ([[2]])\n"
      ],
      "metadata": {
        "id": "B01cEutYR39V"
      },
      "execution_count": null,
      "outputs": []
    },
    {
      "cell_type": "code",
      "source": [
        "scaler = StandardScaler().fit(dados.values)\n",
        "scaled_to_predict_2 = scaler.transform(teste)\n",
        "scaled_to_predict_2"
      ],
      "metadata": {
        "id": "YxX8r4GjzDS0"
      },
      "execution_count": null,
      "outputs": []
    },
    {
      "cell_type": "code",
      "source": [
        "y_pred = model.predict(np.array([scaled_to_predict_2]))\n",
        "print(\"The predicted numbers in the last lottery game are:\", scaler.inverse_transform(y_pred).astype(int)[0])"
      ],
      "metadata": {
        "id": "ZlnNqRDzzYeg"
      },
      "execution_count": null,
      "outputs": []
    },
    {
      "cell_type": "code",
      "source": [],
      "metadata": {
        "id": "IRTMdnqSzfvu"
      },
      "execution_count": null,
      "outputs": []
    },
    {
      "cell_type": "code",
      "source": [
        "model.save('/content/drive/MyDrive/predicao-numerica/model/002')"
      ],
      "metadata": {
        "id": "ppfv9KszhTB2"
      },
      "execution_count": null,
      "outputs": []
    }
  ],
  "metadata": {
    "colab": {
      "provenance": [],
      "mount_file_id": "18Mdtakd8D_df3i3pp2IT1j1HIZj8Lcuk",
      "authorship_tag": "ABX9TyO5x/dpt0lgZ3JkoHUXmek6",
      "include_colab_link": true
    },
    "kernelspec": {
      "display_name": "Python 3",
      "name": "python3"
    },
    "language_info": {
      "name": "python"
    }
  },
  "nbformat": 4,
  "nbformat_minor": 0
}